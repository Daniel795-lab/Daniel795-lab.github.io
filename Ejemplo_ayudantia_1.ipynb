{
  "nbformat": 4,
  "nbformat_minor": 0,
  "metadata": {
    "colab": {
      "name": "Ejemplo ayudantia 1.ipynb",
      "provenance": [],
      "mount_file_id": "1-Bsgm2oEU7uCwBX7NskFbgPz9rawrmbm",
      "authorship_tag": "ABX9TyOCPSrHybKY1P+vRB5Fy5YV",
      "include_colab_link": true
    },
    "kernelspec": {
      "name": "python3",
      "display_name": "Python 3"
    }
  },
  "cells": [
    {
      "cell_type": "markdown",
      "metadata": {
        "id": "view-in-github",
        "colab_type": "text"
      },
      "source": [
        "<a href=\"https://colab.research.google.com/github/Daniel795-lab/Daniel795-lab.github.io/blob/master/Ejemplo_ayudantia_1.ipynb\" target=\"_parent\"><img src=\"https://colab.research.google.com/assets/colab-badge.svg\" alt=\"Open In Colab\"/></a>"
      ]
    },
    {
      "cell_type": "markdown",
      "metadata": {
        "id": "PteQ4yVserWm",
        "colab_type": "text"
      },
      "source": [
        "# **Primer Ejercicio de ayudantia - ICH3424**\n",
        "\n",
        "\n",
        "\n",
        "```\n",
        "# import numpy as np\n",
        "z=5*4\n",
        "print(z)\n",
        "```\n",
        "\n"
      ]
    },
    {
      "cell_type": "code",
      "metadata": {
        "id": "LMPiP8EoXR2B",
        "colab_type": "code",
        "colab": {
          "base_uri": "https://localhost:8080/",
          "height": 279
        },
        "outputId": "5641021e-6a51-414f-cbb6-7ae716002aac"
      },
      "source": [
        "#Importamos librerias a utilizar\n",
        "import numpy as np\n",
        "import matplotlib.pyplot as plt\n",
        "\n",
        "dx=0.1\n",
        "x=np.arange(0,2*np.pi+dx,dx)\n",
        "y=np.sin(x)\n",
        "\n",
        "#graficamos\n",
        "\n",
        "plt.plot(x,y)\n",
        "plt.xlabel('Eje X')\n",
        "plt.ylabel('Eje Y')\n",
        "\n",
        "plt.show()"
      ],
      "execution_count": 28,
      "outputs": [
        {
          "output_type": "display_data",
          "data": {
            "image/png": "[encoded data removed]",
            "text/plain": [
              "<Figure size 432x288 with 1 Axes>"
            ]
          },
          "metadata": {
            "tags": [],
            "needs_background": "light"
          }
        }
      ]
    },
    {
      "cell_type": "code",
      "metadata": {
        "id": "krqSq6ZtZkb4",
        "colab_type": "code",
        "colab": {}
      },
      "source": [
        "# Como crear una funcion\n",
        "\n",
        "def numerosqrt(a):\n",
        "  resultado=np.sqrt(a)\n",
        "  return resultado\n",
        "\n",
        "  b=numerosqrt(4)\n",
        "  print(b)"
      ],
      "execution_count": 33,
      "outputs": []
    },
    {
      "cell_type": "code",
      "metadata": {
        "id": "bnWKDJOWYklN",
        "colab_type": "code",
        "colab": {
          "base_uri": "https://localhost:8080/",
          "height": 299
        },
        "outputId": "81547892-ef6d-49aa-a3da-d631eb54c976"
      },
      "source": [
        "lista1 = [1,2,3,4,5,6,12]\n",
        "lista2 = [2,3,4,5,6,7,8]\n",
        "\n",
        "print(np.diff(lista1))\n",
        "\n",
        "plt.plot(lista1,lista2,'r')"
      ],
      "execution_count": 30,
      "outputs": [
        {
          "output_type": "stream",
          "text": [
            "[1 1 1 1 1 6]\n"
          ],
          "name": "stdout"
        },
        {
          "output_type": "execute_result",
          "data": {
            "text/plain": [
              "[<matplotlib.lines.Line2D at 0x7f8e18f885f8>]"
            ]
          },
          "metadata": {
            "tags": []
          },
          "execution_count": 30
        },
        {
          "output_type": "display_data",
          "data": {
            "image/png": "[encoded data removed]",
            "text/plain": [
              "<Figure size 432x288 with 1 Axes>"
            ]
          },
          "metadata": {
            "tags": [],
            "needs_background": "light"
          }
        }
      ]
    }
  ]
}